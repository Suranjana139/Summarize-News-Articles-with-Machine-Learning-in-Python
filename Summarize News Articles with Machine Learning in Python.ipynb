{
 "cells": [
  {
   "cell_type": "code",
   "execution_count": null,
   "metadata": {},
   "outputs": [],
   "source": [
    "#pip install newspaper3k\n",
    "#pip install tkinter\n",
    "#pip install nltk\n",
    "#pip install textblob\n",
    "\n",
    "import tkinter as tk\n",
    "import nltk\n",
    "from textblob import TextBlob\n",
    "from newspaper import Article\n",
    "\n",
    "nltk.download('punkt')\n",
    "\n",
    "url = 'https://www.news18.com/news/movies/bollywood-actor-asif-basra-dies-by-suicide-in-dharamshala-3073676.html'\n",
    "\n",
    "article = Article(url)\n",
    "\n",
    "article.download()\n",
    "article.parse()\n",
    "\n",
    "article.nlp()\n",
    "\n",
    "print(f'Title: {article.title}')\n",
    "print(f'Authors: {article.authors}')\n",
    "print(f'Publication Date:{article.publish_date}')\n",
    "print(f'Summary:{article.summary}')\n",
    "\n",
    "analysis = TextBlob(article.text)\n",
    "print(analysis.polarity)\n",
    "print(f'Sentiment: {\"positive\" if analysis.polarity >0 else \"negative\" if analysis.polarity <0 else \"neutral\"}')\n",
    "      \n",
    "      \n",
    "\n",
    "\n",
    "\n",
    "\n",
    "\n",
    "\n",
    "\n"
   ]
  },
  {
   "cell_type": "code",
   "execution_count": null,
   "metadata": {},
   "outputs": [],
   "source": []
  }
 ],
 "metadata": {
  "kernelspec": {
   "display_name": "Python 3",
   "language": "python",
   "name": "python3"
  },
  "language_info": {
   "codemirror_mode": {
    "name": "ipython",
    "version": 3
   },
   "file_extension": ".py",
   "mimetype": "text/x-python",
   "name": "python",
   "nbconvert_exporter": "python",
   "pygments_lexer": "ipython3",
   "version": "3.7.4"
  }
 },
 "nbformat": 4,
 "nbformat_minor": 2
}

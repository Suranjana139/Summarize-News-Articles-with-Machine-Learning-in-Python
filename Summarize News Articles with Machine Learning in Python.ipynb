{
 "cells": [
  {
   "cell_type": "code",
   "execution_count": 1,
   "metadata": {},
   "outputs": [
    {
     "name": "stderr",
     "output_type": "stream",
     "text": [
      "[nltk_data] Downloading package punkt to\n",
      "[nltk_data]     C:\\Users\\Acer\\AppData\\Roaming\\nltk_data...\n",
      "[nltk_data]   Package punkt is already up-to-date!\n"
     ]
    },
    {
     "name": "stdout",
     "output_type": "stream",
     "text": [
      "Title: Actor Asif Basra Found Dead At Dharamshala House, Investigation On\n",
      "Authors: []\n",
      "Publication Date:2020-11-12 17:19:44+05:30\n",
      "Summary:Actor Asif Basra died on Thursday in McLodganj in Dharamshala, near a cafe located on FC Gibada Road.\n",
      "A forensic team has reached the spot and an investigation in the matter is underway.\n",
      "\"Film actor Asif Basra was found hanging in a private complex in Dharamshala.\n",
      "Film actor Asif Basra was found hanging in a private complex in Dharamshala.\n",
      "Asif Basra!\n",
      "-0.07258771929824563\n",
      "Sentiment: negative\n"
     ]
    }
   ],
   "source": [
    "#pip install newspaper3k\n",
    "#pip install tkinter\n",
    "#pip install nltk\n",
    "#pip install textblob\n",
    "\n",
    "import tkinter as tk\n",
    "import nltk\n",
    "from textblob import TextBlob\n",
    "from newspaper import Article\n",
    "\n",
    "nltk.download('punkt')\n",
    "\n",
    "url = ' ' #to summarize, put the news url here \n",
    "\n",
    "article = Article(url)\n",
    "\n",
    "article.download()\n",
    "article.parse()\n",
    "\n",
    "article.nlp()\n",
    "\n",
    "print(f'Title: {article.title}')\n",
    "print(f'Authors: {article.authors}')\n",
    "print(f'Publication Date:{article.publish_date}')\n",
    "print(f'Summary:{article.summary}')\n",
    "\n",
    "analysis = TextBlob(article.text)\n",
    "print(analysis.polarity)\n",
    "print(f'Sentiment: {\"positive\" if analysis.polarity >0 else \"negative\" if analysis.polarity <0 else \"neutral\"}')\n",
    "      \n",
    "      \n",
    "\n",
    "\n",
    "\n",
    "\n",
    "\n",
    "\n",
    "\n"
   ]
  },
  {
   "cell_type": "code",
   "execution_count": null,
   "metadata": {},
   "outputs": [],
   "source": []
  }
 ],
 "metadata": {
  "kernelspec": {
   "display_name": "Python 3",
   "language": "python",
   "name": "python3"
  },
  "language_info": {
   "codemirror_mode": {
    "name": "ipython",
    "version": 3
   },
   "file_extension": ".py",
   "mimetype": "text/x-python",
   "name": "python",
   "nbconvert_exporter": "python",
   "pygments_lexer": "ipython3",
   "version": "3.7.4"
  }
 },
 "nbformat": 4,
 "nbformat_minor": 2
}
